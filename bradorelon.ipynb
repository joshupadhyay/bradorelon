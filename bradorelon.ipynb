{
 "cells": [
  {
   "cell_type": "code",
   "execution_count": 1,
   "metadata": {},
   "outputs": [
    {
     "name": "stdout",
     "output_type": "stream",
     "text": [
      "Requirement already satisfied: voila in /opt/conda/envs/fastai/lib/python3.8/site-packages (0.2.10)\n",
      "Requirement already satisfied: nbconvert<7,>=6.0.0 in /opt/conda/envs/fastai/lib/python3.8/site-packages (from voila) (6.0.7)\n",
      "Requirement already satisfied: jupyter-server<2.0.0,>=0.3.0 in /opt/conda/envs/fastai/lib/python3.8/site-packages (from voila) (1.8.0)\n",
      "Requirement already satisfied: jupyter-client<7,>=6.1.3 in /opt/conda/envs/fastai/lib/python3.8/site-packages (from voila) (6.1.7)\n",
      "Requirement already satisfied: nbclient<0.6,>=0.4.0 in /opt/conda/envs/fastai/lib/python3.8/site-packages (from voila) (0.5.1)\n",
      "Requirement already satisfied: mistune<2,>=0.8.1 in /opt/conda/envs/fastai/lib/python3.8/site-packages (from nbconvert<7,>=6.0.0->voila) (0.8.4)\n",
      "Requirement already satisfied: bleach in /opt/conda/envs/fastai/lib/python3.8/site-packages (from nbconvert<7,>=6.0.0->voila) (3.2.1)\n",
      "Requirement already satisfied: jinja2>=2.4 in /opt/conda/envs/fastai/lib/python3.8/site-packages (from nbconvert<7,>=6.0.0->voila) (2.11.2)\n",
      "Requirement already satisfied: testpath in /opt/conda/envs/fastai/lib/python3.8/site-packages (from nbconvert<7,>=6.0.0->voila) (0.4.4)\n",
      "Requirement already satisfied: nbformat>=4.4 in /opt/conda/envs/fastai/lib/python3.8/site-packages (from nbconvert<7,>=6.0.0->voila) (5.0.8)\n",
      "Requirement already satisfied: defusedxml in /opt/conda/envs/fastai/lib/python3.8/site-packages (from nbconvert<7,>=6.0.0->voila) (0.6.0)\n",
      "Requirement already satisfied: pygments>=2.4.1 in /opt/conda/envs/fastai/lib/python3.8/site-packages (from nbconvert<7,>=6.0.0->voila) (2.7.2)\n",
      "Requirement already satisfied: pandocfilters>=1.4.1 in /opt/conda/envs/fastai/lib/python3.8/site-packages (from nbconvert<7,>=6.0.0->voila) (1.4.2)\n",
      "Requirement already satisfied: traitlets>=4.2 in /opt/conda/envs/fastai/lib/python3.8/site-packages (from nbconvert<7,>=6.0.0->voila) (5.0.5)\n",
      "Requirement already satisfied: jupyterlab-pygments in /opt/conda/envs/fastai/lib/python3.8/site-packages (from nbconvert<7,>=6.0.0->voila) (0.1.2)\n",
      "Requirement already satisfied: entrypoints>=0.2.2 in /opt/conda/envs/fastai/lib/python3.8/site-packages (from nbconvert<7,>=6.0.0->voila) (0.3)\n",
      "Requirement already satisfied: jupyter-core in /opt/conda/envs/fastai/lib/python3.8/site-packages (from nbconvert<7,>=6.0.0->voila) (4.7.0)\n",
      "Requirement already satisfied: anyio<4,>=3.1.0 in /opt/conda/envs/fastai/lib/python3.8/site-packages (from jupyter-server<2.0.0,>=0.3.0->voila) (3.1.0)\n",
      "Requirement already satisfied: pyzmq>=17 in /opt/conda/envs/fastai/lib/python3.8/site-packages (from jupyter-server<2.0.0,>=0.3.0->voila) (20.0.0)\n",
      "Requirement already satisfied: argon2-cffi in /opt/conda/envs/fastai/lib/python3.8/site-packages (from jupyter-server<2.0.0,>=0.3.0->voila) (20.1.0)\n",
      "Requirement already satisfied: terminado>=0.8.3 in /opt/conda/envs/fastai/lib/python3.8/site-packages (from jupyter-server<2.0.0,>=0.3.0->voila) (0.9.1)\n",
      "Requirement already satisfied: prometheus-client in /opt/conda/envs/fastai/lib/python3.8/site-packages (from jupyter-server<2.0.0,>=0.3.0->voila) (0.9.0)\n",
      "Requirement already satisfied: ipython-genutils in /opt/conda/envs/fastai/lib/python3.8/site-packages (from jupyter-server<2.0.0,>=0.3.0->voila) (0.2.0)\n",
      "Requirement already satisfied: Send2Trash in /opt/conda/envs/fastai/lib/python3.8/site-packages (from jupyter-server<2.0.0,>=0.3.0->voila) (1.5.0)\n",
      "Requirement already satisfied: websocket-client in /opt/conda/envs/fastai/lib/python3.8/site-packages (from jupyter-server<2.0.0,>=0.3.0->voila) (1.0.1)\n",
      "Requirement already satisfied: tornado>=6.1.0 in /opt/conda/envs/fastai/lib/python3.8/site-packages (from jupyter-server<2.0.0,>=0.3.0->voila) (6.1)\n",
      "Requirement already satisfied: python-dateutil>=2.1 in /opt/conda/envs/fastai/lib/python3.8/site-packages (from jupyter-client<7,>=6.1.3->voila) (2.8.1)\n",
      "Requirement already satisfied: nest-asyncio in /opt/conda/envs/fastai/lib/python3.8/site-packages (from nbclient<0.6,>=0.4.0->voila) (1.4.3)\n",
      "Requirement already satisfied: async-generator in /opt/conda/envs/fastai/lib/python3.8/site-packages (from nbclient<0.6,>=0.4.0->voila) (1.10)\n",
      "Requirement already satisfied: packaging in /opt/conda/envs/fastai/lib/python3.8/site-packages (from bleach->nbconvert<7,>=6.0.0->voila) (20.4)\n",
      "Requirement already satisfied: six>=1.9.0 in /opt/conda/envs/fastai/lib/python3.8/site-packages (from bleach->nbconvert<7,>=6.0.0->voila) (1.15.0)\n",
      "Requirement already satisfied: webencodings in /opt/conda/envs/fastai/lib/python3.8/site-packages (from bleach->nbconvert<7,>=6.0.0->voila) (0.5.1)\n",
      "Requirement already satisfied: MarkupSafe>=0.23 in /opt/conda/envs/fastai/lib/python3.8/site-packages (from jinja2>=2.4->nbconvert<7,>=6.0.0->voila) (1.1.1)\n",
      "Requirement already satisfied: jsonschema!=2.5.0,>=2.4 in /opt/conda/envs/fastai/lib/python3.8/site-packages (from nbformat>=4.4->nbconvert<7,>=6.0.0->voila) (3.2.0)\n",
      "Requirement already satisfied: sniffio>=1.1 in /opt/conda/envs/fastai/lib/python3.8/site-packages (from anyio<4,>=3.1.0->jupyter-server<2.0.0,>=0.3.0->voila) (1.2.0)\n",
      "Requirement already satisfied: idna>=2.8 in /opt/conda/envs/fastai/lib/python3.8/site-packages (from anyio<4,>=3.1.0->jupyter-server<2.0.0,>=0.3.0->voila) (2.10)\n",
      "Requirement already satisfied: cffi>=1.0.0 in /opt/conda/envs/fastai/lib/python3.8/site-packages (from argon2-cffi->jupyter-server<2.0.0,>=0.3.0->voila) (1.14.3)\n",
      "Requirement already satisfied: ptyprocess; os_name != \"nt\" in /opt/conda/envs/fastai/lib/python3.8/site-packages (from terminado>=0.8.3->jupyter-server<2.0.0,>=0.3.0->voila) (0.6.0)\n",
      "Requirement already satisfied: pyparsing>=2.0.2 in /opt/conda/envs/fastai/lib/python3.8/site-packages (from packaging->bleach->nbconvert<7,>=6.0.0->voila) (2.4.7)\n",
      "Requirement already satisfied: setuptools in /opt/conda/envs/fastai/lib/python3.8/site-packages (from jsonschema!=2.5.0,>=2.4->nbformat>=4.4->nbconvert<7,>=6.0.0->voila) (49.6.0.post20201009)\n",
      "Requirement already satisfied: attrs>=17.4.0 in /opt/conda/envs/fastai/lib/python3.8/site-packages (from jsonschema!=2.5.0,>=2.4->nbformat>=4.4->nbconvert<7,>=6.0.0->voila) (20.3.0)\n",
      "Requirement already satisfied: pyrsistent>=0.14.0 in /opt/conda/envs/fastai/lib/python3.8/site-packages (from jsonschema!=2.5.0,>=2.4->nbformat>=4.4->nbconvert<7,>=6.0.0->voila) (0.17.3)\n",
      "Requirement already satisfied: pycparser in /opt/conda/envs/fastai/lib/python3.8/site-packages (from cffi>=1.0.0->argon2-cffi->jupyter-server<2.0.0,>=0.3.0->voila) (2.20)\n",
      "Enabling: voila\n",
      "- Writing config: /opt/conda/envs/fastai/etc/jupyter\n",
      "    - Validating...\n",
      "      voila 0.2.10 \u001b[32mOK\u001b[0m\n"
     ]
    }
   ],
   "source": [
    "!pip install voila\n",
    "!jupyter serverextension enable --sys-prefix voila "
   ]
  },
  {
   "cell_type": "code",
   "execution_count": 40,
   "metadata": {},
   "outputs": [],
   "source": [
    "#hide\n",
    "from fastbook import *\n",
    "from fastai.vision.widgets import *\n",
    "\n",
    "bradorelon = load_learner('celeb_cnn2.pkl', cpu = True)"
   ]
  },
  {
   "cell_type": "code",
   "execution_count": 41,
   "metadata": {},
   "outputs": [],
   "source": [
    "upload_btn = widgets.FileUpload()\n",
    "lbl_pred = widgets.Label()\n",
    "out_pl = widgets.Output()\n",
    "btn_run = widgets.Button(description='Classify')"
   ]
  },
  {
   "cell_type": "code",
   "execution_count": 47,
   "metadata": {},
   "outputs": [],
   "source": [
    "\n",
    "def whenclicked(change):\n",
    "    lbl_pred.value = ''\n",
    "    img = PILImage.create(upload_btn.data[-1])\n",
    "    out_pl.clear_output()\n",
    "    with out_pl: display(img.resize(size = (200,200)))\n",
    "    pred,pred_idx,probs = bradorelon.predict(img)\n",
    "    lbl_pred.value = f'Prediction: {pred}; Probability: {probs[pred_idx]:.04f}'\n",
    "    \n",
    "    \n",
    "    \n",
    "upload_btn.observe(on_data_change, names=['data'])\n"
   ]
  },
  {
   "cell_type": "code",
   "execution_count": 48,
   "metadata": {},
   "outputs": [
    {
     "data": {
      "application/vnd.jupyter.widget-view+json": {
       "model_id": "d7553bef8d9a4daba66a09c0165a3d55",
       "version_major": 2,
       "version_minor": 0
      },
      "text/plain": [
       "VBox(children=(Label(value=\"upload your likeness (or someone else's)...\"), FileUpload(value={'bep.png': {'meta…"
      ]
     },
     "metadata": {},
     "output_type": "display_data"
    },
    {
     "data": {
      "text/html": [],
      "text/plain": [
       "<IPython.core.display.HTML object>"
      ]
     },
     "metadata": {},
     "output_type": "display_data"
    }
   ],
   "source": [
    "display(VBox([widgets.Label(\"upload your likeness (or someone else's)...\"), upload_btn, out_pl, lbl_pred]))"
   ]
  },
  {
   "cell_type": "code",
   "execution_count": null,
   "metadata": {},
   "outputs": [],
   "source": []
  }
 ],
 "metadata": {
  "kernelspec": {
   "display_name": "Python 3",
   "language": "python",
   "name": "python3"
  },
  "language_info": {
   "codemirror_mode": {
    "name": "ipython",
    "version": 3
   },
   "file_extension": ".py",
   "mimetype": "text/x-python",
   "name": "python",
   "nbconvert_exporter": "python",
   "pygments_lexer": "ipython3",
   "version": "3.8.6"
  }
 },
 "nbformat": 4,
 "nbformat_minor": 4
}
