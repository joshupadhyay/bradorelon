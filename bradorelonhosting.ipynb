{
 "cells": [
  {
   "cell_type": "code",
   "execution_count": 58,
   "metadata": {
    "gradient": {}
   },
   "outputs": [],
   "source": [
    "# !pip install voila\n",
    "# !jupyter serverextension enable --sys-prefix voila "
   ]
  },
  {
   "cell_type": "code",
   "execution_count": 59,
   "metadata": {},
   "outputs": [],
   "source": [
    "from fastai.vision.all import *\n",
    "from fastai.vision.widgets import *"
   ]
  },
  {
   "cell_type": "code",
   "execution_count": 61,
   "metadata": {
    "gradient": {}
   },
   "outputs": [],
   "source": [
    "out_pl = widgets.Output()\n",
    "lbl_pred = widgets.Label()\n",
    "learner = widgets.Label()\n",
    "btn_run = widgets.Button(description='Classify')\n",
    "upload_btn = widgets.FileUpload()\n",
    "\n",
    "learn_inf = load_learner('celeb_cnn2.pkl', cpu= True)\n",
    "\n",
    "if learn_inf != None:\n",
    "    lbl_pred.value = \"learner loaded\""
   ]
  },
  {
   "cell_type": "code",
   "execution_count": 62,
   "metadata": {
    "gradient": {}
   },
   "outputs": [],
   "source": [
    "#lbl_pred.value = \"ideally upload a portrait photo of your likeness.. or someone else's\"\n",
    "def on_click_classify(change):\n",
    "    img = PILImage.create(upload_btn.data[-1])\n",
    "    out_pl.clear_output()\n",
    "    with out_pl: display(img.to_thumb(128,128))\n",
    "    lbl_pred.value = 'inference running..'\n",
    "    pred,pred_idx,probs = learn_inf.predict(img)\n",
    "    lbl_pred.value = f'Prediction: {pred}; Probability: {probs[pred_idx]:.04f}'\n",
    "\n",
    "upload_btn.observe(on_click_classify, names=['data'])"
   ]
  },
  {
   "cell_type": "code",
   "execution_count": 63,
   "metadata": {
    "gradient": {}
   },
   "outputs": [
    {
     "data": {
      "application/vnd.jupyter.widget-view+json": {
       "model_id": "bea879bdd5e04700a25c7f3902f2161b",
       "version_major": 2,
       "version_minor": 0
      },
      "text/plain": [
       "VBox(children=(Label(value='BRAD PITT / ELON MUSK DECIDER BOT v2.0'), FileUpload(value={}, description='Upload…"
      ]
     },
     "metadata": {},
     "output_type": "display_data"
    }
   ],
   "source": [
    "display(VBox([widgets.Label(\"BRAD PITT / ELON MUSK DECIDER BOT v2.0\"), \n",
    "              upload_btn, out_pl, \n",
    "              lbl_pred]))"
   ]
  },
  {
   "cell_type": "code",
   "execution_count": null,
   "metadata": {
    "gradient": {}
   },
   "outputs": [],
   "source": []
  }
 ],
 "metadata": {
  "kernelspec": {
   "display_name": "Python 3",
   "language": "python",
   "name": "python3"
  },
  "language_info": {
   "codemirror_mode": {
    "name": "ipython",
    "version": 3
   },
   "file_extension": ".py",
   "mimetype": "text/x-python",
   "name": "python",
   "nbconvert_exporter": "python",
   "pygments_lexer": "ipython3",
   "version": "3.7.6"
  }
 },
 "nbformat": 4,
 "nbformat_minor": 4
}
